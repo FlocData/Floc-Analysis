{
 "cells": [
  {
   "cell_type": "code",
   "execution_count": 1,
   "metadata": {},
   "outputs": [
    {
     "name": "stdout",
     "output_type": "stream",
     "text": [
      "Populating the interactive namespace from numpy and matplotlib\n"
     ]
    }
   ],
   "source": [
    "%pylab inline\n",
    "%config InlineBackend.figure_format='retina'\n",
    "from scipy.integrate import odeint\n",
    "from scipy.optimize import curve_fit\n",
    "import pandas as pd"
   ]
  },
  {
   "cell_type": "code",
   "execution_count": 5,
   "metadata": {},
   "outputs": [
    {
     "data": {
      "text/html": [
       "<div>\n",
       "<style>\n",
       "    .dataframe thead tr:only-child th {\n",
       "        text-align: right;\n",
       "    }\n",
       "\n",
       "    .dataframe thead th {\n",
       "        text-align: left;\n",
       "    }\n",
       "\n",
       "    .dataframe tbody tr th {\n",
       "        vertical-align: top;\n",
       "    }\n",
       "</style>\n",
       "<table border=\"1\" class=\"dataframe\">\n",
       "  <thead>\n",
       "    <tr style=\"text-align: right;\">\n",
       "      <th></th>\n",
       "      <th>Time_min</th>\n",
       "      <th>D16_micron</th>\n",
       "      <th>D50_micron</th>\n",
       "      <th>D84_micron</th>\n",
       "    </tr>\n",
       "  </thead>\n",
       "  <tbody>\n",
       "    <tr>\n",
       "      <th>0</th>\n",
       "      <td>1.0</td>\n",
       "      <td>12.7335</td>\n",
       "      <td>20.6013</td>\n",
       "      <td>39.3249</td>\n",
       "    </tr>\n",
       "    <tr>\n",
       "      <th>1</th>\n",
       "      <td>2.0</td>\n",
       "      <td>13.2074</td>\n",
       "      <td>23.8470</td>\n",
       "      <td>45.4082</td>\n",
       "    </tr>\n",
       "    <tr>\n",
       "      <th>2</th>\n",
       "      <td>3.0</td>\n",
       "      <td>13.8934</td>\n",
       "      <td>25.3438</td>\n",
       "      <td>65.4272</td>\n",
       "    </tr>\n",
       "    <tr>\n",
       "      <th>3</th>\n",
       "      <td>4.0</td>\n",
       "      <td>14.1042</td>\n",
       "      <td>25.6631</td>\n",
       "      <td>49.8698</td>\n",
       "    </tr>\n",
       "    <tr>\n",
       "      <th>4</th>\n",
       "      <td>5.0</td>\n",
       "      <td>10.0286</td>\n",
       "      <td>19.1833</td>\n",
       "      <td>36.1036</td>\n",
       "    </tr>\n",
       "  </tbody>\n",
       "</table>\n",
       "</div>"
      ],
      "text/plain": [
       "   Time_min  D16_micron  D50_micron  D84_micron\n",
       "0       1.0     12.7335     20.6013     39.3249\n",
       "1       2.0     13.2074     23.8470     45.4082\n",
       "2       3.0     13.8934     25.3438     65.4272\n",
       "3       4.0     14.1042     25.6631     49.8698\n",
       "4       5.0     10.0286     19.1833     36.1036"
      ]
     },
     "execution_count": 5,
     "metadata": {},
     "output_type": "execute_result"
    }
   ],
   "source": [
    "df_ps02 = pd.read_csv('data/03_PS2.csv')\n",
    "df_micron = df_ps02['D50_micron']\n",
    "t_min = df_ps02['Time_min']\n",
    "df_ps02.head()"
   ]
  },
  {
   "cell_type": "code",
   "execution_count": 6,
   "metadata": {},
   "outputs": [
    {
     "data": {
      "image/png": "[encoded data removed]",
      "text/plain": [
       "<matplotlib.figure.Figure at 0x11dc42278>"
      ]
     },
     "metadata": {
      "image/png": {
       "height": 265,
       "width": 392
      }
     },
     "output_type": "display_data"
    }
   ],
   "source": [
    "fig, ax = plt.subplots()\n",
    "ax.plot(t_min,df_micron,'ob', label='data')\n",
    "ax.set_xscale('log'),\n",
    "ax.set_xlabel('Time (min)')\n",
    "ax.set_ylabel('Floc Size ($\\mu$m)')\n",
    "legend(loc=4);"
   ]
  },
  {
   "cell_type": "code",
   "execution_count": 7,
   "metadata": {
    "collapsed": true
   },
   "outputs": [],
   "source": [
    "df = df_micron/10**6\n",
    "t_sec = t_min*60"
   ]
  },
  {
   "cell_type": "code",
   "execution_count": null,
   "metadata": {
    "collapsed": true
   },
   "outputs": [],
   "source": [
    "def dDdt(D, t, k):\n",
    "    \"\"\"\n",
    "    ODE to be integrated: dDdt = A-B\n",
    "    \"\"\"\n",
    "    # kind of constant:\n",
    "    nf = 2.25\n",
    "    p = 3.-nf\n",
    "    q = 0.5\n",
    "    Fy = 1e-10 # (N)\n",
    "    rhos = 2500.  # (kg/m3)\n",
    "    mu = 1.002e-3 # dynamic viscosity @ 20 degC (N s m-2)\n",
    "    \n",
    "    # adjustable (passed in in array k)\n",
    "    Ka = k[0]\n",
    "    Kb = k[1]\n",
    "    Dp = k[2]\n",
    "    G =  k[3]\n",
    "    C =  k[4]\n",
    "    \n",
    "    # aggregation and breakup terms\n",
    "    A = D**(4-nf)*Ka*Dp**(nf-3)*G*C/(nf*rhos)\n",
    "    B = (D-Dp)**p * D**(2*q+1) *Kb *((Dp**(-p))/nf) *(mu/Fy)**q *G**(q+1)\n",
    "    dfdt = A-B\n",
    "    return dfdt\n"
   ]
  }
 ],
 "metadata": {
  "kernelspec": {
   "display_name": "Python 3",
   "language": "python",
   "name": "python3"
  },
  "language_info": {
   "codemirror_mode": {
    "name": "ipython",
    "version": 3
   },
   "file_extension": ".py",
   "mimetype": "text/x-python",
   "name": "python",
   "nbconvert_exporter": "python",
   "pygments_lexer": "ipython3",
   "version": "3.6.1"
  }
 },
 "nbformat": 4,
 "nbformat_minor": 2
}
