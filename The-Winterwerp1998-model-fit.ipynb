{
 "cells": [
  {
   "cell_type": "code",
   "execution_count": null,
   "metadata": {},
   "outputs": [],
   "source": [
    "%pylab inline\n",
    "%config InlineBackend.figure_format='retina'\n",
    "from scipy.integrate import odeint\n",
    "from scipy.optimize import curve_fit\n",
    "import pandas as pd"
   ]
  },
  {
   "cell_type": "code",
   "execution_count": null,
   "metadata": {},
   "outputs": [],
   "source": [
    "df_ps02 = pd.read_csv('data/03_PS2.csv')\n",
    "df_micron = df_ps02['D50_micron']\n",
    "t_min = df_ps02['Time_min']\n",
    "df_ps02.head()"
   ]
  },
  {
   "cell_type": "code",
   "execution_count": null,
   "metadata": {},
   "outputs": [],
   "source": [
    "fig, ax = plt.subplots()\n",
    "ax.plot(t_min,df_micron,'ob', label='data')\n",
    "ax.set_xscale('log'),\n",
    "ax.set_xlabel('Time (min)')\n",
    "ax.set_ylabel('Floc Size ($\\mu$m)')\n",
    "legend(loc=4);"
   ]
  },
  {
   "cell_type": "code",
   "execution_count": null,
   "metadata": {
    "collapsed": true
   },
   "outputs": [],
   "source": [
    "df = df_micron/10**6\n",
    "t_sec = t_min*60"
   ]
  },
  {
   "cell_type": "code",
   "execution_count": null,
   "metadata": {},
   "outputs": [],
   "source": [
    "def f(D, t, Ka, Kb):\n",
    "    \"\"\"\n",
    "    ODE to be integrated: dDdt = A-B\n",
    "    \"\"\"\n",
    "    # kind of constant:\n",
    "    nf = 2.25\n",
    "    p = 3.-nf\n",
    "    q = 0.5\n",
    "    Fy = 1e-10 # (N)\n",
    "    rhos = 2500.  # (kg/m3)\n",
    "    mu = 1.002e-3 # dynamic viscosity @ 20 degC (N s m-2)\n",
    "    \n",
    "    Dp = 7e-6 # (m)\n",
    "    G = 35. # (s-1)\n",
    "    C = 50.e-3 # (kg/m3)\n",
    "    \n",
    "    # aggregation and breakup terms\n",
    "    A = D**(4-nf)*Ka*Dp**(nf-3)*G*C/(nf*rhos)\n",
    "    B = (D-Dp)**p * D**(2*q+1) *Kb *((Dp**(-p))/nf) *(mu/Fy)**q *G**(q+1)\n",
    "    dfdt = A-B\n",
    "    return dfdt\n",
    "\n",
    "# Ka = 0.73\n",
    "# Kb = 9.5e-6\n",
    "\n",
    "# initial values\n",
    "D0 = 20e-6 # (m)\n",
    "t = np.linspace(60,100000.,1000)\n",
    "\n",
    "def D(t, Ka, Kb, D0):\n",
    "    \"\"\"\n",
    "    Solution to the ODE y'(t) = f(t,y,a,b) with initial condition y(0) = y0\n",
    "    \"\"\"\n",
    "    D = odeint(f, D0, t, args=(Ka, Kb))\n",
    "    return D.ravel()\n",
    "\n",
    "popt, cov = curve_fit(D, t_sec, df, [0.1,0,D0])\n",
    "Ka_fit, Kb_fit, D0_fit = popt"
   ]
  },
  {
   "cell_type": "code",
   "execution_count": null,
   "metadata": {},
   "outputs": [],
   "source": [
    "popt"
   ]
  },
  {
   "cell_type": "code",
   "execution_count": null,
   "metadata": {},
   "outputs": [],
   "source": [
    "fig, ax = plt.subplots()\n",
    "ax.plot(t_min,df_micron,'ob', label='data')\n",
    "ax.plot(t/60,D(t, Ka_fit, Kb_fit, D0_fit)*10**6,'r', label='fit')\n",
    "ax.set_xscale('log'),\n",
    "ax.set_xlabel('Time (min)')\n",
    "ax.set_ylabel('Floc Size ($\\mu$m)')\n",
    "legend(loc=4);"
   ]
  },
  {
   "cell_type": "code",
   "execution_count": null,
   "metadata": {
    "collapsed": true
   },
   "outputs": [],
   "source": []
  }
 ],
 "metadata": {
  "kernelspec": {
   "display_name": "Python [default]",
   "language": "python",
   "name": "python3"
  },
  "language_info": {
   "codemirror_mode": {
    "name": "ipython",
    "version": 3
   },
   "file_extension": ".py",
   "mimetype": "text/x-python",
   "name": "python",
   "nbconvert_exporter": "python",
   "pygments_lexer": "ipython3",
   "version": "3.5.3"
  }
 },
 "nbformat": 4,
 "nbformat_minor": 2
}
